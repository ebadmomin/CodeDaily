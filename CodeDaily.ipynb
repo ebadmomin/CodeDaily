{
 "cells": [
  {
   "cell_type": "markdown",
   "id": "a4ed20f1",
   "metadata": {},
   "source": [
    "Problem 1 : Two Sum\n",
    "\n",
    "Difficulty: Easy\n",
    "\n",
    "Description\n",
    "Given an array of integers `nums` and an integer `target`, return the indices of the two distinct numbers in the array that add up to the given `target`.\n",
    "\n",
    "You may assume that:\n",
    "\n",
    "Each input will have exactly one valid solution.\n",
    "You may not use the same element twice.\n",
    "\n",
    "Return the answer in any order.\n",
    "\n",
    "Function Signature\n",
    "\n",
    "python\n",
    "def two_sum(nums: List[int], target: int) -> List[int]:\n",
    "\n",
    "Examples\n",
    "Example 1:\n",
    "Input: nums = [2, 7, 11, 15], target = 9  \n",
    "Output: [0, 1]  \n",
    "Explanation: nums[0] + nums[1] = 2 + 7 = 9\n",
    "\n",
    "Example 2:\n",
    "text\n",
    "Input: nums = [3, 2, 4], target = 6  \n",
    "Output: [1, 2]\n",
    "\n",
    "Example 3:\n",
    "text\n",
    "Input: nums = [3, 3], target = 6  \n",
    "Output: [0, 1]\n",
    "\n",
    "Constraints\n",
    "\n",
    "* `2 <= nums.length <= 10⁴`\n",
    "* `-10⁹ <= nums[i] <= 10⁹`\n",
    "* `-10⁹ <= target <= 10⁹`\n",
    "* Exactly **one valid solution** exists."
   ]
  },
  {
   "cell_type": "code",
   "execution_count": null,
   "id": "354e5905",
   "metadata": {},
   "outputs": [
    {
     "name": "stdout",
     "output_type": "stream",
     "text": [
      "[0, 1]\n",
      "[1, 2]\n",
      "[0, 1]\n"
     ]
    }
   ],
   "source": [
    "def two_sum(nums, target):\n",
    "    num_to_index = {}\n",
    "\n",
    "    for i, num in enumerate(nums):\n",
    "        complement = target - num\n",
    "        if complement in num_to_index:\n",
    "            return [num_to_index[complement], i]\n",
    "        num_to_index[num] = i\n",
    "    return []\n",
    "\n",
    "# Test cases\n",
    "if __name__ == \"__main__\":\n",
    "    print(two_sum([2, 7, 11, 15], 9))    # Output: [0, 1]\n",
    "    print(two_sum([3, 2, 4], 6))         # Output: [1, 2]\n",
    "    print(two_sum([3, 3], 6))            # Output: [0, 1]\n"
   ]
  },
  {
   "cell_type": "code",
   "execution_count": null,
   "id": "7082d7a6",
   "metadata": {},
   "outputs": [],
   "source": []
  }
 ],
 "metadata": {
  "kernelspec": {
   "display_name": "Python 3",
   "language": "python",
   "name": "python3"
  },
  "language_info": {
   "codemirror_mode": {
    "name": "ipython",
    "version": 3
   },
   "file_extension": ".py",
   "mimetype": "text/x-python",
   "name": "python",
   "nbconvert_exporter": "python",
   "pygments_lexer": "ipython3",
   "version": "3.13.1"
  }
 },
 "nbformat": 4,
 "nbformat_minor": 5
}
